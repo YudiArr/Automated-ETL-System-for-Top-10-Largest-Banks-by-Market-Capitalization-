{
 "cells": [
  {
   "cell_type": "markdown",
   "metadata": {},
   "source": [
    "# Acquiring and Processing Information on the World's Largest Banks\n",
    "\n",
    "In this project, we will work with real-world data and perform the operations of Extraction, Transformation, and Loading (ETL) as required.\n",
    "\n",
    "- Task 1: Logging function\n",
    "- Task 2: Extraction of data\n",
    "- Task 3: Transformation of data\n",
    "- Task 4: Loading to CSV\n",
    "- Task 5: Loading to Database\n",
    "- Task 6: Function to Run queries on Database\n",
    "- Task 7: Verify log entries"
   ]
  },
  {
   "cell_type": "markdown",
   "metadata": {},
   "source": [
    "### Preliminaries: Installing libraries and downloading data\n",
    "\n",
    "Install the required libraries"
   ]
  },
  {
   "cell_type": "code",
   "execution_count": 1,
   "metadata": {
    "execution": {
     "iopub.execute_input": "2024-07-30T15:33:00.803639Z",
     "iopub.status.busy": "2024-07-30T15:33:00.802086Z",
     "iopub.status.idle": "2024-07-30T15:33:03.227190Z",
     "shell.execute_reply": "2024-07-30T15:33:03.227190Z",
     "shell.execute_reply.started": "2024-07-30T15:33:00.803639Z"
    }
   },
   "outputs": [
    {
     "name": "stdout",
     "output_type": "stream",
     "text": [
      "Requirement already satisfied: numpy in c:\\program files\\python38\\lib\\site-packages (1.24.4)\n",
      "Requirement already satisfied: pandas in c:\\program files\\python38\\lib\\site-packages (2.0.3)\n",
      "Requirement already satisfied: bs4 in c:\\program files\\python38\\lib\\site-packages (0.0.2)\n",
      "Requirement already satisfied: wget in c:\\program files\\python38\\lib\\site-packages (3.2)\n",
      "Requirement already satisfied: python-dateutil>=2.8.2 in c:\\program files\\python38\\lib\\site-packages (from pandas) (2.9.0.post0)\n",
      "Requirement already satisfied: pytz>=2020.1 in c:\\program files\\python38\\lib\\site-packages (from pandas) (2024.1)\n",
      "Requirement already satisfied: tzdata>=2022.1 in c:\\program files\\python38\\lib\\site-packages (from pandas) (2024.1)\n",
      "Requirement already satisfied: beautifulsoup4 in c:\\program files\\python38\\lib\\site-packages (from bs4) (4.12.3)\n",
      "Requirement already satisfied: six>=1.5 in c:\\program files\\python38\\lib\\site-packages (from python-dateutil>=2.8.2->pandas) (1.16.0)\n",
      "Requirement already satisfied: soupsieve>1.2 in c:\\program files\\python38\\lib\\site-packages (from beautifulsoup4->bs4) (2.5)\n"
     ]
    },
    {
     "name": "stderr",
     "output_type": "stream",
     "text": [
      "\n",
      "[notice] A new release of pip is available: 24.0 -> 24.1.2\n",
      "[notice] To update, run: python.exe -m pip install --upgrade pip\n"
     ]
    }
   ],
   "source": [
    "!pip install numpy pandas bs4 wget"
   ]
  },
  {
   "cell_type": "markdown",
   "metadata": {},
   "source": [
    "Download the required exchange rate file"
   ]
  },
  {
   "cell_type": "code",
   "execution_count": 2,
   "metadata": {
    "execution": {
     "iopub.execute_input": "2024-07-30T15:33:03.240054Z",
     "iopub.status.busy": "2024-07-30T15:33:03.240054Z",
     "iopub.status.idle": "2024-07-30T15:33:04.868399Z",
     "shell.execute_reply": "2024-07-30T15:33:04.865543Z",
     "shell.execute_reply.started": "2024-07-30T15:33:03.240054Z"
    }
   },
   "outputs": [
    {
     "name": "stdout",
     "output_type": "stream",
     "text": [
      "100% [....................................................................................] 45 / 45"
     ]
    },
    {
     "data": {
      "text/plain": [
       "'exchange_rate (1).csv'"
      ]
     },
     "execution_count": 2,
     "metadata": {},
     "output_type": "execute_result"
    }
   ],
   "source": [
    "# Download the CSV data first into a local `exchange_rate.csv` file\n",
    "import wget\n",
    "wget.download(\"https://cf-courses-data.s3.us.cloud-object-storage.appdomain.cloud/IBMSkillsNetwork-PY0221EN-Coursera/labs/v2/exchange_rate.csv\")"
   ]
  },
  {
   "cell_type": "markdown",
   "metadata": {},
   "source": [
    "### Importing Libraries\n",
    "\n",
    "Importing the required libraries"
   ]
  },
  {
   "cell_type": "code",
   "execution_count": 3,
   "metadata": {
    "execution": {
     "iopub.execute_input": "2024-07-30T15:33:04.887344Z",
     "iopub.status.busy": "2024-07-30T15:33:04.885695Z",
     "iopub.status.idle": "2024-07-30T15:33:06.190296Z",
     "shell.execute_reply": "2024-07-30T15:33:06.187701Z",
     "shell.execute_reply.started": "2024-07-30T15:33:04.887344Z"
    }
   },
   "outputs": [],
   "source": [
    "import requests\n",
    "import sqlite3\n",
    "import numpy as np\n",
    "import pandas as pd\n",
    "from bs4 import BeautifulSoup\n",
    "from datetime import datetime\n",
    "\n",
    "# Suppress generated warnings\n",
    "def warn(*args, **kwargs):\n",
    "    pass\n",
    "import warnings\n",
    "warnings.warn = warn\n",
    "warnings.filterwarnings('ignore')"
   ]
  },
  {
   "cell_type": "markdown",
   "metadata": {},
   "source": [
    "### Tasks"
   ]
  },
  {
   "cell_type": "markdown",
   "metadata": {},
   "source": [
    "#### Task 1: Logging function\n",
    "\n",
    "This function accepts the message to be logged and enters it to the log file on a new line.\n",
    "\n",
    "Log entries will be in the format: `<timestamp> : <message>`"
   ]
  },
  {
   "cell_type": "code",
   "execution_count": 4,
   "metadata": {
    "execution": {
     "iopub.execute_input": "2024-07-30T15:33:06.213056Z",
     "iopub.status.busy": "2024-07-30T15:33:06.213056Z",
     "iopub.status.idle": "2024-07-30T15:33:06.241690Z",
     "shell.execute_reply": "2024-07-30T15:33:06.238944Z",
     "shell.execute_reply.started": "2024-07-30T15:33:06.213056Z"
    }
   },
   "outputs": [],
   "source": [
    "def log_progress(message):\n",
    "    ''' This function logs the mentioned message of a given stage of the\n",
    "    code execution to a log file. Function returns nothing'''\n",
    "\n",
    "    timestamp_format = \"%Y-%h-%d-%H:%M:%S\" # Year-Monthname-Day-Hour-Minute-Second\n",
    "    now = datetime.now() # get current timestamp\n",
    "    timestamp = now.strftime(timestamp_format)\n",
    "    with open(log_file,\"a\") as f:\n",
    "        f.write(timestamp + \" : \" + message + \"\\n\")"
   ]
  },
  {
   "cell_type": "markdown",
   "metadata": {},
   "source": [
    "#### Task 2: Extraction of data\n",
    "\n",
    "1. Inspect the URL and identify the position and pattern of the tabular information in the HTML code under the heading `By market capitalization`. In the given webpage, our table is at the first position, or index 0 and we require the entries under *\"Bank name\"* and *\"Market cap (US$ billion)\"*.\n",
    "\n",
    "    <img src=\"List_of_largest_banks.png\">\n",
    "\n",
    "    Notice that all rows under this table are mentioned as `tr` objects under the table. Clicking one of them reveals that the data in each row is further saved as a `td` object. \n",
    "    \n",
    "    It is also important to note that entries under \"Bank name\" have two hyperlinks associated with it, one for the Country and the other for Bank name, as seen in the image above.\n",
    "\n",
    "2. Write the function `extract()` to retrieve the information of the table to a Pandas DataFrame."
   ]
  },
  {
   "cell_type": "code",
   "execution_count": 21,
   "metadata": {
    "execution": {
     "iopub.execute_input": "2024-07-30T15:39:19.515463Z",
     "iopub.status.busy": "2024-07-30T15:39:19.515463Z",
     "iopub.status.idle": "2024-07-30T15:39:19.556448Z",
     "shell.execute_reply": "2024-07-30T15:39:19.554792Z",
     "shell.execute_reply.started": "2024-07-30T15:39:19.515463Z"
    }
   },
   "outputs": [
    {
     "data": {
      "text/html": [
       "<div>\n",
       "<style scoped>\n",
       "    .dataframe tbody tr th:only-of-type {\n",
       "        vertical-align: middle;\n",
       "    }\n",
       "\n",
       "    .dataframe tbody tr th {\n",
       "        vertical-align: top;\n",
       "    }\n",
       "\n",
       "    .dataframe thead th {\n",
       "        text-align: right;\n",
       "    }\n",
       "</style>\n",
       "<table border=\"1\" class=\"dataframe\">\n",
       "  <thead>\n",
       "    <tr style=\"text-align: right;\">\n",
       "      <th></th>\n",
       "      <th>Name</th>\n",
       "      <th>MC_USD_Billion</th>\n",
       "      <th>MC_GBP_Billion</th>\n",
       "      <th>MC_EUR_Billion</th>\n",
       "      <th>MC_INR_Billion</th>\n",
       "    </tr>\n",
       "  </thead>\n",
       "  <tbody>\n",
       "    <tr>\n",
       "      <th>0</th>\n",
       "      <td>JPMorgan Chase</td>\n",
       "      <td>432.92</td>\n",
       "      <td>346.34</td>\n",
       "      <td>402.62</td>\n",
       "      <td>35910.71</td>\n",
       "    </tr>\n",
       "    <tr>\n",
       "      <th>1</th>\n",
       "      <td>Bank of America</td>\n",
       "      <td>231.52</td>\n",
       "      <td>185.22</td>\n",
       "      <td>215.31</td>\n",
       "      <td>19204.58</td>\n",
       "    </tr>\n",
       "    <tr>\n",
       "      <th>2</th>\n",
       "      <td>Industrial and Commercial Bank of China</td>\n",
       "      <td>194.56</td>\n",
       "      <td>155.65</td>\n",
       "      <td>180.94</td>\n",
       "      <td>16138.75</td>\n",
       "    </tr>\n",
       "    <tr>\n",
       "      <th>3</th>\n",
       "      <td>Agricultural Bank of China</td>\n",
       "      <td>160.68</td>\n",
       "      <td>128.54</td>\n",
       "      <td>149.43</td>\n",
       "      <td>13328.41</td>\n",
       "    </tr>\n",
       "    <tr>\n",
       "      <th>4</th>\n",
       "      <td>HDFC Bank</td>\n",
       "      <td>157.91</td>\n",
       "      <td>126.33</td>\n",
       "      <td>146.86</td>\n",
       "      <td>13098.63</td>\n",
       "    </tr>\n",
       "    <tr>\n",
       "      <th>5</th>\n",
       "      <td>Wells Fargo</td>\n",
       "      <td>155.87</td>\n",
       "      <td>124.70</td>\n",
       "      <td>144.96</td>\n",
       "      <td>12929.42</td>\n",
       "    </tr>\n",
       "    <tr>\n",
       "      <th>6</th>\n",
       "      <td>HSBC</td>\n",
       "      <td>148.90</td>\n",
       "      <td>119.12</td>\n",
       "      <td>138.48</td>\n",
       "      <td>12351.26</td>\n",
       "    </tr>\n",
       "    <tr>\n",
       "      <th>7</th>\n",
       "      <td>Morgan Stanley</td>\n",
       "      <td>140.83</td>\n",
       "      <td>112.66</td>\n",
       "      <td>130.97</td>\n",
       "      <td>11681.85</td>\n",
       "    </tr>\n",
       "    <tr>\n",
       "      <th>8</th>\n",
       "      <td>China Construction Bank</td>\n",
       "      <td>139.82</td>\n",
       "      <td>111.86</td>\n",
       "      <td>130.03</td>\n",
       "      <td>11598.07</td>\n",
       "    </tr>\n",
       "    <tr>\n",
       "      <th>9</th>\n",
       "      <td>Bank of China</td>\n",
       "      <td>136.81</td>\n",
       "      <td>109.45</td>\n",
       "      <td>127.23</td>\n",
       "      <td>11348.39</td>\n",
       "    </tr>\n",
       "  </tbody>\n",
       "</table>\n",
       "</div>"
      ],
      "text/plain": [
       "                                      Name  MC_USD_Billion  MC_GBP_Billion  \\\n",
       "0                           JPMorgan Chase          432.92          346.34   \n",
       "1                          Bank of America          231.52          185.22   \n",
       "2  Industrial and Commercial Bank of China          194.56          155.65   \n",
       "3               Agricultural Bank of China          160.68          128.54   \n",
       "4                                HDFC Bank          157.91          126.33   \n",
       "5                              Wells Fargo          155.87          124.70   \n",
       "6                                     HSBC          148.90          119.12   \n",
       "7                           Morgan Stanley          140.83          112.66   \n",
       "8                  China Construction Bank          139.82          111.86   \n",
       "9                            Bank of China          136.81          109.45   \n",
       "\n",
       "   MC_EUR_Billion  MC_INR_Billion  \n",
       "0          402.62        35910.71  \n",
       "1          215.31        19204.58  \n",
       "2          180.94        16138.75  \n",
       "3          149.43        13328.41  \n",
       "4          146.86        13098.63  \n",
       "5          144.96        12929.42  \n",
       "6          138.48        12351.26  \n",
       "7          130.97        11681.85  \n",
       "8          130.03        11598.07  \n",
       "9          127.23        11348.39  "
      ]
     },
     "execution_count": 21,
     "metadata": {},
     "output_type": "execute_result"
    }
   ],
   "source": [
    "def extract(url, table_attribs):\n",
    "    ''' This function aims to extract the required\n",
    "    information from the website and save it to a data frame. The\n",
    "    function returns the data frame for further processing. '''\n",
    "\n",
    "    page = requests.get(url).text\n",
    "    soup = BeautifulSoup(page, \"html.parser\")\n",
    "\n",
    "    df = pd.DataFrame(columns=table_attribs)\n",
    "\n",
    "    tables = soup.find_all(\"tbody\")\n",
    "    rows = tables[0].find_all(\"tr\")\n",
    "\n",
    "    for row in rows:\n",
    "        col = row.find_all(\"td\")\n",
    "        if len(col) != 0:\n",
    "            data_dict = {\"Name\": col[1].find_all(\"a\")[1][\"title\"],\n",
    "                         \"MC_USD_Billion\": float(col[2].contents[0][:-1])}\n",
    "            df1 = pd.DataFrame(data_dict, index=[0])\n",
    "            df = pd.concat([df, df1], ignore_index=True)\n",
    "\n",
    "    return df\n",
    "df"
   ]
  },
  {
   "cell_type": "markdown",
   "metadata": {},
   "source": [
    "The code functions as follows:\n",
    "\n",
    "1. Extract the web page as text.\n",
    "1. Parse the text into an HTML object.\n",
    "1. Create an empty Pandas DataFrame named `df` with columns argument set as `table_attribs`.\n",
    "1. Extract all `tbody` attributes of the HTML object and then extract all the rows of the index 0 table using the `tr` attribute.\n",
    "1. Iterate over the contents of the variable `rows`.\n",
    "1. Extract all the `td` data objects in the row and save them to `col`.\n",
    "1. Check if the length of `col` is 0, that is, if there is no data in the current row. This is important since, many times there are merged rows that are not apparent in the web page appearance.\n",
    "1. Create a dictionary `data_dict` with the keys same as the columns of the dataframe created for recording the output earlier and corresponding values from the second and third headers of data.\n",
    "    - Extract the `title` attribute of the second hyperlink from the `Bank name` column.\n",
    "    - Remove the last character (`\\n`) from the `Market cap (US$ billion)` column contents using negative index slicing, then typecast the value to `float` format.\n",
    "1. Convert the dictionary to a dataframe and concatenate it with the existing one. This way, the data keeps getting appended to the dataframe with every iteration of the loop.\n",
    "1. Return the dataframe."
   ]
  },
  {
   "cell_type": "markdown",
   "metadata": {},
   "source": [
    "#### Task 3: Transformation of data\n",
    "\n",
    "The Transform function needs to perform the following tasks:\n",
    "\n",
    "1. Read the exchange rate CSV file and convert the contents to a dictionary so that the contents of the first columns are the keys to the dictionary and the contents of the second column are the corresponding values.\n",
    "\n",
    "1. Add 3 different columns to the dataframe: `MC_GBP_Billion`, `MC_EUR_Billion` and `MC_INR_Billion`, each containing the content of MC_USD_Billion scaled by the corresponding exchange rate factor. Round the resulting data to 2 decimal places."
   ]
  },
  {
   "cell_type": "code",
   "execution_count": 22,
   "metadata": {
    "execution": {
     "iopub.execute_input": "2024-07-30T15:43:38.079684Z",
     "iopub.status.busy": "2024-07-30T15:43:38.079684Z",
     "iopub.status.idle": "2024-07-30T15:43:38.111846Z",
     "shell.execute_reply": "2024-07-30T15:43:38.111846Z",
     "shell.execute_reply.started": "2024-07-30T15:43:38.079684Z"
    }
   },
   "outputs": [
    {
     "data": {
      "text/html": [
       "<div>\n",
       "<style scoped>\n",
       "    .dataframe tbody tr th:only-of-type {\n",
       "        vertical-align: middle;\n",
       "    }\n",
       "\n",
       "    .dataframe tbody tr th {\n",
       "        vertical-align: top;\n",
       "    }\n",
       "\n",
       "    .dataframe thead th {\n",
       "        text-align: right;\n",
       "    }\n",
       "</style>\n",
       "<table border=\"1\" class=\"dataframe\">\n",
       "  <thead>\n",
       "    <tr style=\"text-align: right;\">\n",
       "      <th></th>\n",
       "      <th>Name</th>\n",
       "      <th>MC_USD_Billion</th>\n",
       "      <th>MC_GBP_Billion</th>\n",
       "      <th>MC_EUR_Billion</th>\n",
       "      <th>MC_INR_Billion</th>\n",
       "    </tr>\n",
       "  </thead>\n",
       "  <tbody>\n",
       "    <tr>\n",
       "      <th>0</th>\n",
       "      <td>JPMorgan Chase</td>\n",
       "      <td>432.92</td>\n",
       "      <td>346.34</td>\n",
       "      <td>402.62</td>\n",
       "      <td>35910.71</td>\n",
       "    </tr>\n",
       "    <tr>\n",
       "      <th>1</th>\n",
       "      <td>Bank of America</td>\n",
       "      <td>231.52</td>\n",
       "      <td>185.22</td>\n",
       "      <td>215.31</td>\n",
       "      <td>19204.58</td>\n",
       "    </tr>\n",
       "    <tr>\n",
       "      <th>2</th>\n",
       "      <td>Industrial and Commercial Bank of China</td>\n",
       "      <td>194.56</td>\n",
       "      <td>155.65</td>\n",
       "      <td>180.94</td>\n",
       "      <td>16138.75</td>\n",
       "    </tr>\n",
       "    <tr>\n",
       "      <th>3</th>\n",
       "      <td>Agricultural Bank of China</td>\n",
       "      <td>160.68</td>\n",
       "      <td>128.54</td>\n",
       "      <td>149.43</td>\n",
       "      <td>13328.41</td>\n",
       "    </tr>\n",
       "    <tr>\n",
       "      <th>4</th>\n",
       "      <td>HDFC Bank</td>\n",
       "      <td>157.91</td>\n",
       "      <td>126.33</td>\n",
       "      <td>146.86</td>\n",
       "      <td>13098.63</td>\n",
       "    </tr>\n",
       "    <tr>\n",
       "      <th>5</th>\n",
       "      <td>Wells Fargo</td>\n",
       "      <td>155.87</td>\n",
       "      <td>124.70</td>\n",
       "      <td>144.96</td>\n",
       "      <td>12929.42</td>\n",
       "    </tr>\n",
       "    <tr>\n",
       "      <th>6</th>\n",
       "      <td>HSBC</td>\n",
       "      <td>148.90</td>\n",
       "      <td>119.12</td>\n",
       "      <td>138.48</td>\n",
       "      <td>12351.26</td>\n",
       "    </tr>\n",
       "    <tr>\n",
       "      <th>7</th>\n",
       "      <td>Morgan Stanley</td>\n",
       "      <td>140.83</td>\n",
       "      <td>112.66</td>\n",
       "      <td>130.97</td>\n",
       "      <td>11681.85</td>\n",
       "    </tr>\n",
       "    <tr>\n",
       "      <th>8</th>\n",
       "      <td>China Construction Bank</td>\n",
       "      <td>139.82</td>\n",
       "      <td>111.86</td>\n",
       "      <td>130.03</td>\n",
       "      <td>11598.07</td>\n",
       "    </tr>\n",
       "    <tr>\n",
       "      <th>9</th>\n",
       "      <td>Bank of China</td>\n",
       "      <td>136.81</td>\n",
       "      <td>109.45</td>\n",
       "      <td>127.23</td>\n",
       "      <td>11348.39</td>\n",
       "    </tr>\n",
       "  </tbody>\n",
       "</table>\n",
       "</div>"
      ],
      "text/plain": [
       "                                      Name  MC_USD_Billion  MC_GBP_Billion  \\\n",
       "0                           JPMorgan Chase          432.92          346.34   \n",
       "1                          Bank of America          231.52          185.22   \n",
       "2  Industrial and Commercial Bank of China          194.56          155.65   \n",
       "3               Agricultural Bank of China          160.68          128.54   \n",
       "4                                HDFC Bank          157.91          126.33   \n",
       "5                              Wells Fargo          155.87          124.70   \n",
       "6                                     HSBC          148.90          119.12   \n",
       "7                           Morgan Stanley          140.83          112.66   \n",
       "8                  China Construction Bank          139.82          111.86   \n",
       "9                            Bank of China          136.81          109.45   \n",
       "\n",
       "   MC_EUR_Billion  MC_INR_Billion  \n",
       "0          402.62        35910.71  \n",
       "1          215.31        19204.58  \n",
       "2          180.94        16138.75  \n",
       "3          149.43        13328.41  \n",
       "4          146.86        13098.63  \n",
       "5          144.96        12929.42  \n",
       "6          138.48        12351.26  \n",
       "7          130.97        11681.85  \n",
       "8          130.03        11598.07  \n",
       "9          127.23        11348.39  "
      ]
     },
     "execution_count": 22,
     "metadata": {},
     "output_type": "execute_result"
    }
   ],
   "source": [
    "def transform(df, csv_path):\n",
    "    ''' This function accesses the CSV file for exchange rate\n",
    "    information, and adds three columns to the data frame, each\n",
    "    containing the transformed version of Market Cap column to\n",
    "    respective currencies'''\n",
    "\n",
    "    # Read exchange rate CSV file\n",
    "    exchange_rate = pd.read_csv(csv_path)\n",
    "\n",
    "    # Convert to a dictionary with \"Currency\" as keys and \"Rate\" as values\n",
    "    exchange_rate = exchange_rate.set_index(\"Currency\").to_dict()[\"Rate\"]\n",
    "\n",
    "    # Add MC_GBP_Billion, MC_EUR_Billion, and MC_INR_Billion\n",
    "    # columns to dataframe. Round off to two decimals\n",
    "    df[\"MC_GBP_Billion\"] = [np.round(x * exchange_rate[\"GBP\"], 2) for x in df[\"MC_USD_Billion\"]]\n",
    "    df[\"MC_EUR_Billion\"] = [np.round(x * exchange_rate[\"EUR\"], 2) for x in df[\"MC_USD_Billion\"]]\n",
    "    df[\"MC_INR_Billion\"] = [np.round(x * exchange_rate[\"INR\"], 2) for x in df[\"MC_USD_Billion\"]]\n",
    "\n",
    "    return df\n",
    "df"
   ]
  },
  {
   "cell_type": "markdown",
   "metadata": {},
   "source": [
    "#### Task 4: Loading to CSV\n",
    "\n",
    "Load the transformed dataframe to an output CSV file."
   ]
  },
  {
   "cell_type": "code",
   "execution_count": 7,
   "metadata": {
    "execution": {
     "iopub.execute_input": "2024-07-30T15:33:06.307572Z",
     "iopub.status.busy": "2024-07-30T15:33:06.305560Z",
     "iopub.status.idle": "2024-07-30T15:33:06.321657Z",
     "shell.execute_reply": "2024-07-30T15:33:06.321146Z",
     "shell.execute_reply.started": "2024-07-30T15:33:06.307572Z"
    }
   },
   "outputs": [],
   "source": [
    "def load_to_csv(df, output_path):\n",
    "    ''' This function saves the final data frame as a CSV file in\n",
    "    the provided path. Function returns nothing.'''\n",
    "\n",
    "    df.to_csv(output_path)"
   ]
  },
  {
   "cell_type": "markdown",
   "metadata": {},
   "source": [
    "#### Task 5: Loading to Database\n",
    "\n",
    "Load the transformed dataframe to a SQL database server as a table."
   ]
  },
  {
   "cell_type": "code",
   "execution_count": 8,
   "metadata": {
    "execution": {
     "iopub.execute_input": "2024-07-30T15:33:06.328174Z",
     "iopub.status.busy": "2024-07-30T15:33:06.321657Z",
     "iopub.status.idle": "2024-07-30T15:33:06.345748Z",
     "shell.execute_reply": "2024-07-30T15:33:06.343700Z",
     "shell.execute_reply.started": "2024-07-30T15:33:06.328174Z"
    }
   },
   "outputs": [],
   "source": [
    "def load_to_db(df, sql_connection, table_name):\n",
    "    ''' This function saves the final data frame to a database\n",
    "    table with the provided name. Function returns nothing.'''\n",
    "\n",
    "    df.to_sql(table_name, sql_connection, if_exists='replace', index=False)"
   ]
  },
  {
   "cell_type": "markdown",
   "metadata": {},
   "source": [
    "#### Task 6: Function to Run queries on Database\n",
    "\n",
    "Run queries on the database table."
   ]
  },
  {
   "cell_type": "code",
   "execution_count": 9,
   "metadata": {
    "execution": {
     "iopub.execute_input": "2024-07-30T15:33:06.350945Z",
     "iopub.status.busy": "2024-07-30T15:33:06.350945Z",
     "iopub.status.idle": "2024-07-30T15:33:06.378164Z",
     "shell.execute_reply": "2024-07-30T15:33:06.375969Z",
     "shell.execute_reply.started": "2024-07-30T15:33:06.350945Z"
    }
   },
   "outputs": [],
   "source": [
    "def run_query(query_statement, sql_connection):\n",
    "    ''' This function runs the query on the database table and\n",
    "    prints the output on the terminal. Function returns nothing. '''\n",
    "\n",
    "    print(query_statement)\n",
    "    query_output = pd.read_sql(query_statement, sql_connection)\n",
    "    print(query_output)"
   ]
  },
  {
   "cell_type": "markdown",
   "metadata": {},
   "source": [
    "### Running ETL Process\n",
    "\n",
    "Declaring known values"
   ]
  },
  {
   "cell_type": "code",
   "execution_count": 10,
   "metadata": {
    "execution": {
     "iopub.execute_input": "2024-07-30T15:33:06.378164Z",
     "iopub.status.busy": "2024-07-30T15:33:06.378164Z",
     "iopub.status.idle": "2024-07-30T15:33:06.411418Z",
     "shell.execute_reply": "2024-07-30T15:33:06.408702Z",
     "shell.execute_reply.started": "2024-07-30T15:33:06.378164Z"
    }
   },
   "outputs": [],
   "source": [
    "url = \"https://web.archive.org/web/20230908091635/https://en.wikipedia.org/wiki/List_of_largest_banks\"\n",
    "csv_path = \"./exchange_rate.csv\"\n",
    "table_attribs = [\"Name\", \"MC_USD_Billion\"]\n",
    "output_path = \"./Largest_banks_data.csv\"\n",
    "db_name = \"Banks.db\"\n",
    "table_name = \"Largest_banks\"\n",
    "log_file = \"./code_log.txt\"\n",
    "\n",
    "log_progress(\"Preliminaries complete. Initiating ETL process\")"
   ]
  },
  {
   "cell_type": "markdown",
   "metadata": {},
   "source": [
    "Call extract() function"
   ]
  },
  {
   "cell_type": "code",
   "execution_count": 11,
   "metadata": {
    "execution": {
     "iopub.execute_input": "2024-07-30T15:33:06.416552Z",
     "iopub.status.busy": "2024-07-30T15:33:06.413027Z",
     "iopub.status.idle": "2024-07-30T15:33:07.782033Z",
     "shell.execute_reply": "2024-07-30T15:33:07.780272Z",
     "shell.execute_reply.started": "2024-07-30T15:33:06.416552Z"
    }
   },
   "outputs": [
    {
     "name": "stdout",
     "output_type": "stream",
     "text": [
      "                                      Name  MC_USD_Billion\n",
      "0                           JPMorgan Chase          432.92\n",
      "1                          Bank of America          231.52\n",
      "2  Industrial and Commercial Bank of China          194.56\n",
      "3               Agricultural Bank of China          160.68\n",
      "4                                HDFC Bank          157.91\n",
      "5                              Wells Fargo          155.87\n",
      "6                                     HSBC          148.90\n",
      "7                           Morgan Stanley          140.83\n",
      "8                  China Construction Bank          139.82\n",
      "9                            Bank of China          136.81\n"
     ]
    }
   ],
   "source": [
    "df = extract(url, table_attribs)\n",
    "print(df)\n",
    "\n",
    "log_progress(\"Data extraction complete. Initiating Transformation process\")"
   ]
  },
  {
   "cell_type": "markdown",
   "metadata": {},
   "source": [
    "Call transform() function"
   ]
  },
  {
   "cell_type": "code",
   "execution_count": 12,
   "metadata": {
    "execution": {
     "iopub.execute_input": "2024-07-30T15:33:07.790568Z",
     "iopub.status.busy": "2024-07-30T15:33:07.790027Z",
     "iopub.status.idle": "2024-07-30T15:33:07.866428Z",
     "shell.execute_reply": "2024-07-30T15:33:07.860993Z",
     "shell.execute_reply.started": "2024-07-30T15:33:07.790568Z"
    }
   },
   "outputs": [
    {
     "name": "stdout",
     "output_type": "stream",
     "text": [
      "                                      Name  MC_USD_Billion  MC_GBP_Billion  \\\n",
      "0                           JPMorgan Chase          432.92          346.34   \n",
      "1                          Bank of America          231.52          185.22   \n",
      "2  Industrial and Commercial Bank of China          194.56          155.65   \n",
      "3               Agricultural Bank of China          160.68          128.54   \n",
      "4                                HDFC Bank          157.91          126.33   \n",
      "5                              Wells Fargo          155.87          124.70   \n",
      "6                                     HSBC          148.90          119.12   \n",
      "7                           Morgan Stanley          140.83          112.66   \n",
      "8                  China Construction Bank          139.82          111.86   \n",
      "9                            Bank of China          136.81          109.45   \n",
      "\n",
      "   MC_EUR_Billion  MC_INR_Billion  \n",
      "0          402.62        35910.71  \n",
      "1          215.31        19204.58  \n",
      "2          180.94        16138.75  \n",
      "3          149.43        13328.41  \n",
      "4          146.86        13098.63  \n",
      "5          144.96        12929.42  \n",
      "6          138.48        12351.26  \n",
      "7          130.97        11681.85  \n",
      "8          130.03        11598.07  \n",
      "9          127.23        11348.39  \n"
     ]
    }
   ],
   "source": [
    "df = transform(df, csv_path)\n",
    "print(df)\n",
    "\n",
    "log_progress(\"Data transformation complete. Initiating Loading process\")"
   ]
  },
  {
   "cell_type": "markdown",
   "metadata": {},
   "source": [
    "Call load_to_csv()"
   ]
  },
  {
   "cell_type": "code",
   "execution_count": 13,
   "metadata": {
    "execution": {
     "iopub.execute_input": "2024-07-30T15:33:07.872779Z",
     "iopub.status.busy": "2024-07-30T15:33:07.872779Z",
     "iopub.status.idle": "2024-07-30T15:33:07.915654Z",
     "shell.execute_reply": "2024-07-30T15:33:07.910702Z",
     "shell.execute_reply.started": "2024-07-30T15:33:07.872779Z"
    }
   },
   "outputs": [],
   "source": [
    "load_to_csv(df, output_path)\n",
    "\n",
    "log_progress(\"Data saved to CSV file\")"
   ]
  },
  {
   "cell_type": "markdown",
   "metadata": {},
   "source": [
    "Initiate SQLite3 connection"
   ]
  },
  {
   "cell_type": "code",
   "execution_count": 14,
   "metadata": {
    "execution": {
     "iopub.execute_input": "2024-07-30T15:33:07.919182Z",
     "iopub.status.busy": "2024-07-30T15:33:07.919182Z",
     "iopub.status.idle": "2024-07-30T15:33:07.949610Z",
     "shell.execute_reply": "2024-07-30T15:33:07.944568Z",
     "shell.execute_reply.started": "2024-07-30T15:33:07.919182Z"
    }
   },
   "outputs": [],
   "source": [
    "sql_connection = sqlite3.connect(db_name)\n",
    "\n",
    "log_progress(\"SQL Connection initiated\")"
   ]
  },
  {
   "cell_type": "markdown",
   "metadata": {},
   "source": [
    "Call load_to_db()"
   ]
  },
  {
   "cell_type": "code",
   "execution_count": 15,
   "metadata": {
    "execution": {
     "iopub.execute_input": "2024-07-30T15:33:07.959778Z",
     "iopub.status.busy": "2024-07-30T15:33:07.954745Z",
     "iopub.status.idle": "2024-07-30T15:33:08.022641Z",
     "shell.execute_reply": "2024-07-30T15:33:08.021571Z",
     "shell.execute_reply.started": "2024-07-30T15:33:07.959778Z"
    }
   },
   "outputs": [],
   "source": [
    "load_to_db(df, sql_connection, table_name)\n",
    "\n",
    "log_progress(\"Data loaded to Database as a table, Executing queries\")"
   ]
  },
  {
   "cell_type": "markdown",
   "metadata": {},
   "source": [
    "Call run_query()\n",
    "\n",
    "1. Print the contents of the entire table"
   ]
  },
  {
   "cell_type": "code",
   "execution_count": 16,
   "metadata": {
    "execution": {
     "iopub.execute_input": "2024-07-30T15:33:08.027961Z",
     "iopub.status.busy": "2024-07-30T15:33:08.022641Z",
     "iopub.status.idle": "2024-07-30T15:33:08.054660Z",
     "shell.execute_reply": "2024-07-30T15:33:08.054660Z",
     "shell.execute_reply.started": "2024-07-30T15:33:08.027961Z"
    }
   },
   "outputs": [
    {
     "name": "stdout",
     "output_type": "stream",
     "text": [
      "SELECT * from Largest_banks\n",
      "                                      Name  MC_USD_Billion  MC_GBP_Billion  \\\n",
      "0                           JPMorgan Chase          432.92          346.34   \n",
      "1                          Bank of America          231.52          185.22   \n",
      "2  Industrial and Commercial Bank of China          194.56          155.65   \n",
      "3               Agricultural Bank of China          160.68          128.54   \n",
      "4                                HDFC Bank          157.91          126.33   \n",
      "5                              Wells Fargo          155.87          124.70   \n",
      "6                                     HSBC          148.90          119.12   \n",
      "7                           Morgan Stanley          140.83          112.66   \n",
      "8                  China Construction Bank          139.82          111.86   \n",
      "9                            Bank of China          136.81          109.45   \n",
      "\n",
      "   MC_EUR_Billion  MC_INR_Billion  \n",
      "0          402.62        35910.71  \n",
      "1          215.31        19204.58  \n",
      "2          180.94        16138.75  \n",
      "3          149.43        13328.41  \n",
      "4          146.86        13098.63  \n",
      "5          144.96        12929.42  \n",
      "6          138.48        12351.26  \n",
      "7          130.97        11681.85  \n",
      "8          130.03        11598.07  \n",
      "9          127.23        11348.39  \n"
     ]
    }
   ],
   "source": [
    "query_statement = f\"SELECT * from {table_name}\"\n",
    "run_query(query_statement, sql_connection)"
   ]
  },
  {
   "cell_type": "markdown",
   "metadata": {},
   "source": [
    "2. Print the average market capitalization of all the banks in Billion GBP"
   ]
  },
  {
   "cell_type": "code",
   "execution_count": 17,
   "metadata": {
    "execution": {
     "iopub.execute_input": "2024-07-30T15:33:08.061596Z",
     "iopub.status.busy": "2024-07-30T15:33:08.060706Z",
     "iopub.status.idle": "2024-07-30T15:33:08.079218Z",
     "shell.execute_reply": "2024-07-30T15:33:08.077803Z",
     "shell.execute_reply.started": "2024-07-30T15:33:08.061596Z"
    }
   },
   "outputs": [
    {
     "name": "stdout",
     "output_type": "stream",
     "text": [
      "SELECT AVG(MC_GBP_Billion) FROM Largest_banks\n",
      "   AVG(MC_GBP_Billion)\n",
      "0              151.987\n"
     ]
    }
   ],
   "source": [
    "query_statement = f\"SELECT AVG(MC_GBP_Billion) FROM {table_name}\"\n",
    "run_query(query_statement, sql_connection)"
   ]
  },
  {
   "cell_type": "markdown",
   "metadata": {},
   "source": [
    "3. Print only the names of the top 5 banks"
   ]
  },
  {
   "cell_type": "code",
   "execution_count": 18,
   "metadata": {
    "execution": {
     "iopub.execute_input": "2024-07-30T15:33:08.084030Z",
     "iopub.status.busy": "2024-07-30T15:33:08.084030Z",
     "iopub.status.idle": "2024-07-30T15:33:08.111154Z",
     "shell.execute_reply": "2024-07-30T15:33:08.109548Z",
     "shell.execute_reply.started": "2024-07-30T15:33:08.084030Z"
    }
   },
   "outputs": [
    {
     "name": "stdout",
     "output_type": "stream",
     "text": [
      "SELECT Name from Largest_banks LIMIT 5\n",
      "                                      Name\n",
      "0                           JPMorgan Chase\n",
      "1                          Bank of America\n",
      "2  Industrial and Commercial Bank of China\n",
      "3               Agricultural Bank of China\n",
      "4                                HDFC Bank\n"
     ]
    }
   ],
   "source": [
    "query_statement = f\"SELECT Name from {table_name} LIMIT 5\"\n",
    "run_query(query_statement, sql_connection)\n",
    "\n",
    "log_progress(\"Process Complete\")"
   ]
  },
  {
   "cell_type": "markdown",
   "metadata": {},
   "source": [
    "Close SQLite3 connection"
   ]
  },
  {
   "cell_type": "code",
   "execution_count": 19,
   "metadata": {
    "execution": {
     "iopub.execute_input": "2024-07-30T15:33:08.122687Z",
     "iopub.status.busy": "2024-07-30T15:33:08.122687Z",
     "iopub.status.idle": "2024-07-30T15:33:08.144476Z",
     "shell.execute_reply": "2024-07-30T15:33:08.141609Z",
     "shell.execute_reply.started": "2024-07-30T15:33:08.122687Z"
    }
   },
   "outputs": [],
   "source": [
    "sql_connection.close()\n",
    "\n",
    "log_progress(\"Server Connection closed\")"
   ]
  },
  {
   "cell_type": "markdown",
   "metadata": {},
   "source": [
    "#### Task 7: Verify log entries\n",
    "\n",
    "Upon successful completion of execution, you should see all the relevant entries made in the log file in relation to the stages of code execution."
   ]
  },
  {
   "cell_type": "code",
   "execution_count": 20,
   "metadata": {
    "execution": {
     "iopub.execute_input": "2024-07-30T15:33:08.146411Z",
     "iopub.status.busy": "2024-07-30T15:33:08.146411Z",
     "iopub.status.idle": "2024-07-30T15:33:08.190934Z",
     "shell.execute_reply": "2024-07-30T15:33:08.190934Z",
     "shell.execute_reply.started": "2024-07-30T15:33:08.146411Z"
    }
   },
   "outputs": [
    {
     "name": "stdout",
     "output_type": "stream",
     "text": [
      "2024-Jul-30-22:29:30 : Preliminaries complete. Initiating ETL process\n",
      "2024-Jul-30-22:29:33 : Data extraction complete. Initiating Transformation process\n",
      "2024-Jul-30-22:29:33 : Data transformation complete. Initiating Loading process\n",
      "2024-Jul-30-22:29:33 : Data saved to CSV file\n",
      "2024-Jul-30-22:29:33 : SQL Connection initiated\n",
      "2024-Jul-30-22:29:33 : Data loaded to Database as a table, Executing queries\n",
      "2024-Jul-30-22:29:33 : Process Complete\n",
      "2024-Jul-30-22:29:33 : Server Connection closed\n",
      "2024-Jul-30-22:33:06 : Preliminaries complete. Initiating ETL process\n",
      "2024-Jul-30-22:33:07 : Data extraction complete. Initiating Transformation process\n",
      "2024-Jul-30-22:33:07 : Data transformation complete. Initiating Loading process\n",
      "2024-Jul-30-22:33:07 : Data saved to CSV file\n",
      "2024-Jul-30-22:33:07 : SQL Connection initiated\n",
      "2024-Jul-30-22:33:08 : Data loaded to Database as a table, Executing queries\n",
      "2024-Jul-30-22:33:08 : Process Complete\n",
      "2024-Jul-30-22:33:08 : Server Connection closed\n",
      "\n"
     ]
    }
   ],
   "source": [
    "with open(log_file, \"r\") as log:\n",
    "    LogContent = log.read()\n",
    "    print(LogContent)"
   ]
  },
  {
   "cell_type": "markdown",
   "metadata": {},
   "source": [
    "### Change Log\n",
    "\n",
    "\n",
    "|  Date (YYYY-MM-DD) |  Version | Changed By  |  Change Description |\n",
    "|---|---|---|---|\n",
    "| 2024-08-30  | 0.1  | Yudi Arrasyid | Initial version |"
   ]
  },
  {
   "cell_type": "code",
   "execution_count": null,
   "metadata": {},
   "outputs": [],
   "source": []
  },
  {
   "cell_type": "code",
   "execution_count": null,
   "metadata": {},
   "outputs": [],
   "source": []
  }
 ],
 "metadata": {
  "kernelspec": {
   "display_name": "Python 3 (ipykernel)",
   "language": "python",
   "name": "python3"
  },
  "language_info": {
   "codemirror_mode": {
    "name": "ipython",
    "version": 3
   },
   "file_extension": ".py",
   "mimetype": "text/x-python",
   "name": "python",
   "nbconvert_exporter": "python",
   "pygments_lexer": "ipython3",
   "version": "3.8.2"
  }
 },
 "nbformat": 4,
 "nbformat_minor": 4
}
